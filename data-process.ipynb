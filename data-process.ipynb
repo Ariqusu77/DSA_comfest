{
 "cells": [
  {
   "attachments": {},
   "cell_type": "markdown",
   "metadata": {},
   "source": [
    "### Data Preprocess TPS Jakarta"
   ]
  },
  {
   "cell_type": "code",
   "execution_count": 4,
   "metadata": {},
   "outputs": [],
   "source": [
    "import pandas as pd\n",
    "\n",
    "#Load dataframe dari file csv\n",
    "dataframe1 = pd.read_csv('jaksel.csv')\n",
    "dataframe2 = pd.read_csv('jaktim.csv')\n",
    "dataframe3 = pd.read_csv('Jakut.csv')\n",
    "dataframe4 = pd.read_csv('Jakpus.csv')\n",
    "dataframe5 = pd.read_csv('Jakbar.csv')\n",
    "\n",
    "full_data = pd.concat([dataframe1,dataframe2,dataframe3,dataframe4,dataframe5],ignore_index=True)\n",
    "full_data.to_csv('wilayah-rawan-banjir.csv',index=False)\n",
    "\n"
   ]
  }
 ],
 "metadata": {
  "kernelspec": {
   "display_name": "Python 3",
   "language": "python",
   "name": "python3"
  },
  "language_info": {
   "codemirror_mode": {
    "name": "ipython",
    "version": 3
   },
   "file_extension": ".py",
   "mimetype": "text/x-python",
   "name": "python",
   "nbconvert_exporter": "python",
   "pygments_lexer": "ipython3",
   "version": "3.11.2"
  },
  "orig_nbformat": 4
 },
 "nbformat": 4,
 "nbformat_minor": 2
}
