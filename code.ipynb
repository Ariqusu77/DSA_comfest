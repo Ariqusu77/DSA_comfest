{
 "cells": [
  {
   "cell_type": "code",
   "execution_count": 3,
   "metadata": {},
   "outputs": [
    {
     "name": "stdout",
     "output_type": "stream",
     "text": [
      "           kelurahan      kecamatan                wilayah\n",
      "0      Jakarta Pusat         Gambir                 Cideng\n",
      "1      Jakarta Pusat         Gambir                 Cideng\n",
      "2      Jakarta Pusat         Gambir              Duri pulo\n",
      "3      Jakarta Pusat         Gambir              Duri pulo\n",
      "4      Jakarta Pusat         Gambir                 Gambir\n",
      "...              ...            ...                    ...\n",
      "1120   Jakarta Utara     Cilincing           Semper Timur \n",
      "1121   Jakarta Utara     Cilincing           Semper Timur \n",
      "1122   Jakarta Utara  Kelapa Gading    Kelapa Gading Barat\n",
      "1123   Jakarta Utara    Penjaringan            Kamal Muara\n",
      "1124  Jakarta Timur         Makasar  Halim Perdana Kusumah\n",
      "\n",
      "[1125 rows x 3 columns]\n"
     ]
    },
    {
     "name": "stderr",
     "output_type": "stream",
     "text": [
      "C:\\Users\\DELL\\AppData\\Local\\Temp\\ipykernel_11492\\2890624599.py:10: SettingWithCopyWarning: \n",
      "A value is trying to be set on a copy of a slice from a DataFrame.\n",
      "Try using .loc[row_indexer,col_indexer] = value instead\n",
      "\n",
      "See the caveats in the documentation: https://pandas.pydata.org/pandas-docs/stable/user_guide/indexing.html#returning-a-view-versus-a-copy\n",
      "  columns_subset['kelurahan'],columns_subset['wilayah'] = columns_subset['wilayah'],columns_subset['kelurahan']\n"
     ]
    }
   ],
   "source": [
    "import pandas as pd\n",
    "\n",
    "# Membaca file CSV\n",
    "dataframe = pd.read_csv('tempat-penampungan-sampah-sementara-tps-di-wilayah-dki-jakarta-tahun-2019.csv')\n",
    "\n",
    "# Mengambil sebagian data menggunakan column slicing\n",
    "columns_subset = dataframe.loc[:, 'kelurahan':'wilayah'] \n",
    "\n",
    "# Menampilkan data subset\n",
    "columns_subset['kelurahan'],columns_subset['wilayah'] = columns_subset['wilayah'],columns_subset['kelurahan']\n",
    "\n",
    "print(columns_subset)\n",
    "\n",
    "columns_subset.to_csv('tempat-tercover.csv', index=False)\n"
   ]
  },
  {
   "cell_type": "code",
   "execution_count": 4,
   "metadata": {},
   "outputs": [
    {
     "name": "stdout",
     "output_type": "stream",
     "text": [
      "          kelurahan      kecamatan       wilayah\n",
      "0     Jakarta Pusat         Gambir        Cideng\n",
      "2     Jakarta Pusat         Gambir     Duri pulo\n",
      "4     Jakarta Pusat         Gambir        Gambir\n",
      "5     Jakarta Pusat         Gambir       Gambir \n",
      "7     Jakarta Pusat         Gambir  Petojo utara\n",
      "...             ...            ...           ...\n",
      "1095  Jakarta Utara           Koja    Koja Utara\n",
      "1100  Jakarta Utara           Koja    Tugu Utara\n",
      "1109  Jakarta Utara  Tanjung priok  Kebon bawang\n",
      "1112  Jakarta Utara  Tanjung Priok       Warakas\n",
      "1123  Jakarta Utara    Penjaringan   Kamal Muara\n",
      "\n",
      "[348 rows x 3 columns]\n"
     ]
    }
   ],
   "source": [
    "\n",
    "unique_rows = columns_subset.drop_duplicates()\n",
    "\n",
    "\n",
    "print(unique_rows)\n",
    "\n",
    "\n",
    "unique_rows.to_csv('tempat-tercover-tps.csv', index=False)\n"
   ]
  },
  {
   "cell_type": "code",
   "execution_count": 5,
   "metadata": {},
   "outputs": [
    {
     "name": "stderr",
     "output_type": "stream",
     "text": [
      "C:\\Users\\DELL\\AppData\\Local\\Temp\\ipykernel_11492\\4168472238.py:1: SettingWithCopyWarning: \n",
      "A value is trying to be set on a copy of a slice from a DataFrame.\n",
      "Try using .loc[row_indexer,col_indexer] = value instead\n",
      "\n",
      "See the caveats in the documentation: https://pandas.pydata.org/pandas-docs/stable/user_guide/indexing.html#returning-a-view-versus-a-copy\n",
      "  columns_subset['kelurahan'] = columns_subset['kelurahan'].str.title()\n",
      "C:\\Users\\DELL\\AppData\\Local\\Temp\\ipykernel_11492\\4168472238.py:2: SettingWithCopyWarning: \n",
      "A value is trying to be set on a copy of a slice from a DataFrame.\n",
      "Try using .loc[row_indexer,col_indexer] = value instead\n",
      "\n",
      "See the caveats in the documentation: https://pandas.pydata.org/pandas-docs/stable/user_guide/indexing.html#returning-a-view-versus-a-copy\n",
      "  columns_subset['kecamatan'] = columns_subset['kecamatan'].str.title()\n",
      "C:\\Users\\DELL\\AppData\\Local\\Temp\\ipykernel_11492\\4168472238.py:3: SettingWithCopyWarning: \n",
      "A value is trying to be set on a copy of a slice from a DataFrame.\n",
      "Try using .loc[row_indexer,col_indexer] = value instead\n",
      "\n",
      "See the caveats in the documentation: https://pandas.pydata.org/pandas-docs/stable/user_guide/indexing.html#returning-a-view-versus-a-copy\n",
      "  columns_subset['wilayah'] = columns_subset['wilayah'].str.title()\n"
     ]
    }
   ],
   "source": [
    "columns_subset['kelurahan'] = columns_subset['kelurahan'].str.title()\n",
    "columns_subset['kecamatan'] = columns_subset['kecamatan'].str.title()\n",
    "columns_subset['wilayah'] = columns_subset['wilayah'].str.title()\n",
    "\n",
    "columns_subset.to_csv('tempat-tercover.csv', index=False)"
   ]
  },
  {
   "cell_type": "code",
   "execution_count": 21,
   "metadata": {},
   "outputs": [],
   "source": [
    "data = pd.read_csv('tempat-tercover.csv')\n",
    "\n",
    "data_baru = data.drop_duplicates()\n",
    "\n",
    "data_baru.to_csv('data_baru.csv', index=False)"
   ]
  },
  {
   "cell_type": "code",
   "execution_count": null,
   "metadata": {},
   "outputs": [],
   "source": [
    "import pandas as pd\n",
    "\n",
    "dataframe = pd.read_csv('tempat-penampungan-sampah-sementara-tps-di-wilayah-dki-jakarta-tahun-2019.csv')\n",
    "\n",
    "data = dataframe.loc[:,['wilayah','kecamatan','kelurahan']]\n",
    "\n",
    "print(data)"
   ]
  }
 ],
 "metadata": {
  "kernelspec": {
   "display_name": "Python 3",
   "language": "python",
   "name": "python3"
  },
  "language_info": {
   "codemirror_mode": {
    "name": "ipython",
    "version": 3
   },
   "file_extension": ".py",
   "mimetype": "text/x-python",
   "name": "python",
   "nbconvert_exporter": "python",
   "pygments_lexer": "ipython3",
   "version": "3.11.2"
  },
  "orig_nbformat": 4
 },
 "nbformat": 4,
 "nbformat_minor": 2
}
