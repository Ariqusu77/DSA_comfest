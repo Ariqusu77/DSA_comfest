{
 "cells": [
  {
   "cell_type": "code",
   "execution_count": null,
   "metadata": {},
   "outputs": [],
   "source": [
    "import pandas as pd\n",
    "\n",
    "dataframe = pd.read_csv('tempat-penampungan-sampah-sementara-tps-di-wilayah-dki-jakarta-tahun-2019.csv')\n",
    "\n",
    "data = dataframe.loc[:,['wilayah','kecamatan','kelurahan']]"
   ]
  },
  {
   "cell_type": "code",
   "execution_count": null,
   "metadata": {},
   "outputs": [],
   "source": [
    "for column_name, column_data in data.items():\n",
    "    data[column_name] = data[column_name].str.strip()\n",
    "    data[column_name] = data[column_name].str.title()\n",
    "\n",
    "data_baru = data.drop_duplicates()"
   ]
  },
  {
   "cell_type": "code",
   "execution_count": 37,
   "metadata": {},
   "outputs": [],
   "source": [
    "data_sortir = data_baru.sort_values(by=['wilayah','kecamatan','kelurahan'])\n",
    "\n",
    "data_sortir.to_csv('sorted.csv', index=False)"
   ]
  },
  {
   "cell_type": "code",
   "execution_count": null,
   "metadata": {},
   "outputs": [],
   "source": [
    "data_duplicate = data['kelurahan'].value_counts()\n",
    "\n",
    "data_count = pd.DataFrame({'kelurahan':data_duplicate.index, 'Jumlah':data_duplicate.values})\n",
    "\n",
    "sorting = data_count.sort_values(by=['kelurahan'])\n",
    "\n",
    "sorting.to_csv('count.csv',index=False)"
   ]
  }
 ],
 "metadata": {
  "kernelspec": {
   "display_name": "Python 3",
   "language": "python",
   "name": "python3"
  },
  "language_info": {
   "codemirror_mode": {
    "name": "ipython",
    "version": 3
   },
   "file_extension": ".py",
   "mimetype": "text/x-python",
   "name": "python",
   "nbconvert_exporter": "python",
   "pygments_lexer": "ipython3",
   "version": "3.11.2"
  },
  "orig_nbformat": 4
 },
 "nbformat": 4,
 "nbformat_minor": 2
}
