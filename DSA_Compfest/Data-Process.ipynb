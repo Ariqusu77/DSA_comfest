{
 "cells": [
  {
   "attachments": {},
   "cell_type": "markdown",
   "metadata": {},
   "source": [
    "#### Data Pre-process"
   ]
  },
  {
   "cell_type": "code",
   "execution_count": 16,
   "metadata": {},
   "outputs": [],
   "source": [
    "import pandas as pd\n",
    "import os\n",
    "\n",
    "#Load dataframe dari file csv\n",
    "dataframe1 = pd.read_csv('Csv-data/tempat-penampungan-sampah-sementara-tps-di-wilayah-dki-jakarta-tahun-2019.csv')\n",
    "data1 = dataframe1.loc[:,['wilayah','kecamatan']]\n",
    "data2 = dataframe1.loc[:,['kecamatan','volume_sampah_rata_rata_per_hari(m3)']]\n",
    "data2.to_csv('Csv-data/volume.csv',index=False)"
   ]
  },
  {
   "cell_type": "code",
   "execution_count": 5,
   "metadata": {},
   "outputs": [],
   "source": [
    "#Pre-process data before filtering\n",
    "for column_name, column_data in data1.items():\n",
    "    data1[column_name] = data1[column_name].str.strip()\n",
    "    data1[column_name] = data1[column_name].str.title()\n",
    "\n",
    "reduced_data = data1.drop_duplicates()"
   ]
  },
  {
   "cell_type": "code",
   "execution_count": 7,
   "metadata": {},
   "outputs": [],
   "source": [
    "#Sort data based on alphabetical order\n",
    "sorted_data = reduced_data.sort_values(by=['wilayah','kecamatan'])\n",
    "sorted_data.to_csv('Csv-data/sorted.csv', index=False)\n",
    "\n",
    "#there are some typo that should be handled manually"
   ]
  },
  {
   "cell_type": "code",
   "execution_count": 10,
   "metadata": {},
   "outputs": [],
   "source": [
    "#count data for amaount of tps\n",
    "data_duplicate = data1['kecamatan'].value_counts()\n",
    "data_count = pd.DataFrame({'kecamatan':data_duplicate.index, 'Jumlah':data_duplicate.values})\n",
    "\n",
    "counted_data = data_count.sort_values(by=['kecamatan'])\n",
    "counted_data.to_csv('Csv-data/counted.csv',index=False)\n",
    "\n",
    "#there are some typo that should be handled manually"
   ]
  },
  {
   "cell_type": "code",
   "execution_count": null,
   "metadata": {},
   "outputs": [],
   "source": [
    "#merge data from counting and sorting\n",
    "final_sorted = pd.read_csv('Csv-data/sorted-final.csv')\n",
    "final_counted = pd.read_csv('Csv-data/counted-final.csv')\n",
    "\n",
    "merged = pd.merge(final_sorted,final_counted, on='kecamatan')\n",
    "\n",
    "merged.to_csv('Csv-data/merged1.csv',index=False)"
   ]
  },
  {
   "cell_type": "code",
   "execution_count": 18,
   "metadata": {},
   "outputs": [],
   "source": [
    "#before load data, correct some typo from the original csv file\n",
    "volume = pd.read_csv('Csv-data/volume-final.csv')\n",
    "\n",
    "#pre-process data before using it\n",
    "volume['kecamatan'] = volume['kecamatan'].str.strip()\n",
    "volume['kecamatan'] = volume['kecamatan'].str.title()\n",
    "volume['volume_sampah_rata_rata_per_hari(m3)'] = volume['volume_sampah_rata_rata_per_hari(m3)'].astype(float)\n",
    "\n",
    "#data processing\n",
    "grouped_sum = volume.groupby('kecamatan')['volume_sampah_rata_rata_per_hari(m3)'].transform('sum')\n",
    "volume['total_volume(m3)'] = grouped_sum"
   ]
  },
  {
   "cell_type": "code",
   "execution_count": 19,
   "metadata": {},
   "outputs": [],
   "source": [
    "#select only necessary and delete duplicate data\n",
    "total_volume = volume.loc[:,['kecamatan','total_volume(m3)']]\n",
    "reduced_volume = total_volume.drop_duplicates()\n",
    "\n",
    "reduced_volume.to_csv('Csv-data/reduced-volume.csv',index=False)\n",
    "#there are some typo that should be handled manually"
   ]
  },
  {
   "cell_type": "code",
   "execution_count": 24,
   "metadata": {},
   "outputs": [],
   "source": [
    "#Load dataframe from csv file\n",
    "dataframe2 = pd.read_csv('Csv-data/data-jumlah-kepala-keluarga-berdasarkan-jenis-kelamin-per-kelurahan-tahun-2020.csv')\n",
    "\n",
    "data3 = dataframe2.loc[:,['kabupaten_kota','kecamatan','jumlah']]"
   ]
  },
  {
   "cell_type": "code",
   "execution_count": null,
   "metadata": {},
   "outputs": [],
   "source": [
    "#data pre-processing\n",
    "data3['jumlah'] = data3['jumlah'].astype(int)\n",
    "\n",
    "data3_sum = data3.groupby('kecamatan')['jumlah'].transform('sum')\n",
    "data3['jumlah_kk'] = data3_sum"
   ]
  },
  {
   "cell_type": "code",
   "execution_count": 31,
   "metadata": {},
   "outputs": [],
   "source": [
    "#select only necessary and delete duplicate data\n",
    "jumlah_kk = data3.loc[:,['kabupaten_kota','kecamatan','jumlah_kk']]\n",
    "reduced_kk = jumlah_kk.drop_duplicates()\n",
    "\n",
    "reduced_kk.to_csv('Csv-data/reduced-kk.csv',index=False)"
   ]
  },
  {
   "cell_type": "code",
   "execution_count": null,
   "metadata": {},
   "outputs": [],
   "source": [
    "data_merge = pd.read_csv('Csv-data/merged.csv')\n",
    "data_kk = pd.read_csv('Csv-data/reduced-kk-final.csv')\n",
    "data_volume = pd.read_csv('Csv-data/reduced-volume-final.csv')\n",
    "\n",
    "final_merged ="
   ]
  },
  {
   "attachments": {},
   "cell_type": "markdown",
   "metadata": {},
   "source": [
    "#### Data Visualization : Histogram"
   ]
  },
  {
   "cell_type": "code",
   "execution_count": null,
   "metadata": {},
   "outputs": [],
   "source": [
    "import geopandas as gpd\n",
    "import matplotlib.pyplot as plt\n",
    "\n",
    "g"
   ]
  },
  {
   "attachments": {},
   "cell_type": "markdown",
   "metadata": {},
   "source": [
    "#### Data Visualization : Maps"
   ]
  },
  {
   "cell_type": "code",
   "execution_count": null,
   "metadata": {},
   "outputs": [],
   "source": [
    "import geopandas as gpd\n",
    "import matplotlib.pyplot as plt\n",
    "\n",
    "#Prepare the maps\n",
    "gdf_jakbar = gpd.read_file('city-regency-simplified/id-jk-jakbar.min.geojson')\n",
    "gdf_jakpus = gpd.read_file('city-regency-simplified/id-jk-jakpus.min.geojson')\n",
    "gdf_jaksel = gpd.read_file('city-regency-simplified/id-jk-jaksel.min.geojson')\n",
    "gdf_jaktim = gpd.read_file('city-regency-simplified/id-jk-jaktim.min.geojson')\n",
    "gdf_jakut = gpd.read_file('city-regency-simplified/id-jk-jakut.min.geojson')\n",
    "\n",
    "#combine the maps\n",
    "gdf_jakarta = gpd.GeoDataFrame(pd.concat([gdf_jakbar,gdf_jakpus,gdf_jaksel,gdf_jaktim,gdf_jakut], ignore_index=True), crs=gdf_jakbar.crs)\n",
    "\n",
    "print(gdf_jakarta)"
   ]
  },
  {
   "cell_type": "code",
   "execution_count": 60,
   "metadata": {},
   "outputs": [
    {
     "name": "stdout",
     "output_type": "stream",
     "text": [
      "            kecamatan                                           geometry\n",
      "35             Cakung  POLYGON ((106.90081 -6.21332, 106.90242 -6.206...\n",
      "12      Cempaka Putih  POLYGON ((106.85532 -6.19216, 106.85979 -6.189...\n",
      "0          Cengkareng  POLYGON ((106.70370 -6.17859, 106.70690 -6.176...\n",
      "19           Cilandak  POLYGON ((106.76671 -6.29069, 106.77084 -6.288...\n",
      "36          Cilincing  POLYGON ((106.90718 -6.10846, 106.90755 -6.103...\n",
      "34           Cipayung  POLYGON ((106.88237 -6.29880, 106.89208 -6.298...\n",
      "33            Ciracas  POLYGON ((106.86950 -6.30027, 106.87162 -6.296...\n",
      "29        Duren Sawit  POLYGON ((106.89576 -6.21323, 106.90081 -6.213...\n",
      "8              Gambir  POLYGON ((106.82850 -6.16262, 106.83015 -6.164...\n",
      "1   Grogol Petamburan  POLYGON ((106.76779 -6.15784, 106.77522 -6.145...\n",
      "21          Jagakarsa  POLYGON ((106.80909 -6.31462, 106.80805 -6.311...\n",
      "28         Jatinegara  POLYGON ((106.85818 -6.21323, 106.86221 -6.211...\n",
      "13         Johar Baru  POLYGON ((106.85220 -6.17451, 106.85763 -6.173...\n",
      "2           Kalideres  POLYGON ((106.73155 -6.12154, 106.72439 -6.126...\n",
      "16     Kebayoran Baru  POLYGON ((106.79583 -6.22926, 106.79975 -6.228...\n",
      "17     Kebayoran Lama  POLYGON ((106.76460 -6.22742, 106.77847 -6.226...\n",
      "3         Kebon Jeruk  POLYGON ((106.75942 -6.15920, 106.76077 -6.158...\n",
      "38      Kelapa Gading  POLYGON ((106.88204 -6.16231, 106.88877 -6.150...\n",
      "14          Kemayoran  POLYGON ((106.84133 -6.15069, 106.84532 -6.153...\n",
      "4           Kembangan  POLYGON ((106.72312 -6.18468, 106.72683 -6.177...\n",
      "37               Koja  POLYGON ((106.89249 -6.10555, 106.89279 -6.097...\n",
      "30        Kramat Jati  POLYGON ((106.86255 -6.24309, 106.86624 -6.243...\n",
      "31            Makasar  POLYGON ((106.87520 -6.24686, 106.87640 -6.245...\n",
      "22   Mampang Prapatan  POLYGON ((106.81789 -6.22748, 106.82166 -6.232...\n",
      "26           Matraman  POLYGON ((106.87503 -6.19238, 106.87333 -6.200...\n",
      "10            Menteng  POLYGON ((106.82324 -6.18337, 106.83324 -6.182...\n",
      "40         Pademangan  POLYGON ((106.80939 -6.12767, 106.80987 -6.127...\n",
      "5            Palmerah  POLYGON ((106.78322 -6.18535, 106.79162 -6.183...\n",
      "23           Pancoran  POLYGON ((106.83523 -6.24107, 106.84181 -6.242...\n",
      "20       Pasar Minggu  POLYGON ((106.81395 -6.27303, 106.82109 -6.274...\n",
      "32         Pasar Rebo  POLYGON ((106.85406 -6.29372, 106.85578 -6.292...\n",
      "41        Penjaringan  POLYGON ((106.80939 -6.12767, 106.81038 -6.130...\n",
      "18       Pesanggrahan  POLYGON ((106.76460 -6.22742, 106.76593 -6.230...\n",
      "27        Pulo Gadung  POLYGON ((106.87503 -6.19238, 106.87605 -6.176...\n",
      "15        Sawah Besar  POLYGON ((106.84133 -6.15069, 106.83938 -6.153...\n",
      "11              Senen  POLYGON ((106.83279 -6.17577, 106.83634 -6.175...\n",
      "25          Setiabudi  POLYGON ((106.81237 -6.21937, 106.81840 -6.214...\n",
      "6          Taman Sari  POLYGON ((106.81280 -6.16068, 106.81098 -6.156...\n",
      "7             Tambora  POLYGON ((106.78898 -6.14329, 106.80058 -6.142...\n",
      "9         Tanah Abang  POLYGON ((106.81036 -6.18502, 106.81447 -6.181...\n",
      "39      Tanjung Priok  MULTIPOLYGON (((106.86470 -6.12075, 106.86629 ...\n",
      "24              Tebet  POLYGON ((106.83470 -6.24090, 106.83632 -6.236...\n"
     ]
    }
   ],
   "source": [
    "gdf1 = gpd.GeoDataFrame({'kecamatan':gdf_jakarta['name'],'geometry':gdf_jakarta['geometry']})\n",
    "gdf2 = gdf1.sort_values(by='kecamatan')\n",
    "print(gdf2)\n",
    "datakk = pd.read_csv('Csv-data/reduced-kk-final.csv')\n",
    "\n",
    "kk = datakk.loc[:,['kecamatan','jumlah_kk']]\n",
    "\n",
    "kk['kecamatan'] = kk['kecamatan'].str.title()\n",
    "kk['jumlah_kk'] = kk['jumlah_kk'].astype(int)\n",
    "\n",
    "# print(gdf1)\n",
    "\n",
    "kk1 = kk.sort_values(by='kecamatan')\n",
    "\n",
    "#print(kk)\n",
    "\n",
    "gdf_kk = gpd.GeoDataFrame({'kecamatan':gdf2['kecamatan'],'geometry':gdf2['geometry'],'jumlah_kk':kk1['jumlah_kk']})\n",
    "#print(gdf_kk)\n",
    "\n"
   ]
  },
  {
   "cell_type": "code",
   "execution_count": null,
   "metadata": {},
   "outputs": [],
   "source": [
    "from matplotlib.colors import Normalize\n",
    "\n",
    "gdf1 = gpd.GeoDataFrame({'kecamatan':gdf_jakarta['name']})\n",
    "\n",
    "# Define the variable to use for coloring\n",
    "variable = 'your_variable'\n",
    "\n",
    "# Define the colormap and normalization\n",
    "cmap = 'coolwarm'  # Example: Cool-Warm colormap\n",
    "norm = Normalize(vmin=gdf1[variable].min(), vmax=gdf1[variable].max())\n",
    "\n",
    "# Plot the GeoDataFrame with different colors based on the variable\n",
    "gdf1.plot(column=variable, cmap=cmap, linewidth=0.8, edgecolor='black', norm=norm, legend=True)\n",
    "\n",
    "# Customize the plot\n",
    "plt.title('Map with Variable-based Colors')\n",
    "plt.xlabel('Longitude')\n",
    "plt.ylabel('Latitude')\n",
    "\n",
    "# Show the colorbar\n",
    "sm = plt.cm.ScalarMappable(cmap=cmap, norm=norm)\n",
    "sm.set_array([])\n",
    "plt.colorbar(sm, label='Your Variable')\n",
    "\n",
    "plt.show()\n"
   ]
  }
 ],
 "metadata": {
  "kernelspec": {
   "display_name": "Python 3",
   "language": "python",
   "name": "python3"
  },
  "language_info": {
   "codemirror_mode": {
    "name": "ipython",
    "version": 3
   },
   "file_extension": ".py",
   "mimetype": "text/x-python",
   "name": "python",
   "nbconvert_exporter": "python",
   "pygments_lexer": "ipython3",
   "version": "3.11.2"
  },
  "orig_nbformat": 4
 },
 "nbformat": 4,
 "nbformat_minor": 2
}
