{
 "cells": [
  {
   "attachments": {},
   "cell_type": "markdown",
   "metadata": {},
   "source": [
    "#### Data Pre-process"
   ]
  },
  {
   "cell_type": "code",
   "execution_count": 16,
   "metadata": {},
   "outputs": [],
   "source": [
    "import pandas as pd\n",
    "\n",
    "#Load dataframe dari file csv\n",
    "dataframe1 = pd.read_csv('Csv-data/tempat-penampungan-sampah-sementara-tps-di-wilayah-dki-jakarta-tahun-2019.csv')\n",
    "data1 = dataframe1.loc[:,['wilayah','kecamatan']]\n",
    "data2 = dataframe1.loc[:,['kecamatan','volume_sampah_rata_rata_per_hari(m3)']]\n",
    "data2.to_csv('Csv-data/volume.csv',index=False)"
   ]
  },
  {
   "cell_type": "code",
   "execution_count": 5,
   "metadata": {},
   "outputs": [],
   "source": [
    "#Pre-process data before filtering\n",
    "for column_name, column_data in data1.items():\n",
    "    data1[column_name] = data1[column_name].str.strip()\n",
    "    data1[column_name] = data1[column_name].str.title()\n",
    "\n",
    "reduced_data = data1.drop_duplicates()"
   ]
  },
  {
   "cell_type": "code",
   "execution_count": 7,
   "metadata": {},
   "outputs": [],
   "source": [
    "#Sort data based on alphabetical order\n",
    "sorted_data = reduced_data.sort_values(by=['wilayah','kecamatan'])\n",
    "sorted_data.to_csv('Csv-data/sorted.csv', index=False)\n",
    "\n",
    "#there are some typo that should be handled manually"
   ]
  },
  {
   "cell_type": "code",
   "execution_count": 10,
   "metadata": {},
   "outputs": [],
   "source": [
    "#count data for amaount of tps\n",
    "data_duplicate = data1['kecamatan'].value_counts()\n",
    "data_count = pd.DataFrame({'kecamatan':data_duplicate.index, 'Jumlah':data_duplicate.values})\n",
    "\n",
    "counted_data = data_count.sort_values(by=['kecamatan'])\n",
    "counted_data.to_csv('Csv-data/counted.csv',index=False)\n",
    "\n",
    "#there are some typo that should be handled manually"
   ]
  },
  {
   "cell_type": "code",
   "execution_count": null,
   "metadata": {},
   "outputs": [],
   "source": [
    "#merge data from counting and sorting\n",
    "final_sorted = pd.read_csv('Csv-data/sorted-final.csv')\n",
    "final_counted = pd.read_csv('Csv-data/counted-final.csv')\n",
    "\n",
    "merged = pd.merge(final_sorted,final_counted, on='kecamatan')\n",
    "\n",
    "merged.to_csv('Csv-data/merged1.csv',index=False)"
   ]
  },
  {
   "cell_type": "code",
   "execution_count": 18,
   "metadata": {},
   "outputs": [],
   "source": [
    "#before load data, correct some typo from the original csv file\n",
    "volume = pd.read_csv('Csv-data/volume-final.csv')\n",
    "\n",
    "#pre-process data before using it\n",
    "volume['kecamatan'] = volume['kecamatan'].str.strip()\n",
    "volume['kecamatan'] = volume['kecamatan'].str.title()\n",
    "volume['volume_sampah_rata_rata_per_hari(m3)'] = volume['volume_sampah_rata_rata_per_hari(m3)'].astype(float)\n",
    "\n",
    "#data processing\n",
    "grouped_sum = volume.groupby('kecamatan')['volume_sampah_rata_rata_per_hari(m3)'].transform('sum')\n",
    "volume['total_volume(m3)'] = grouped_sum"
   ]
  },
  {
   "cell_type": "code",
   "execution_count": 19,
   "metadata": {},
   "outputs": [],
   "source": [
    "#select only necessary and delete duplicate data\n",
    "total_volume = volume.loc[:,['kecamatan','total_volume(m3)']]\n",
    "reduced_volume = total_volume.drop_duplicates()\n",
    "\n",
    "reduced_volume.to_csv('Csv-data/reduced-volume.csv',index=False)\n",
    "#there are some typo that should be handled manually"
   ]
  },
  {
   "cell_type": "code",
   "execution_count": null,
   "metadata": {},
   "outputs": [],
   "source": [
    "#Load dataframe from csv file\n",
    "\n",
    "data3 = pd.read_csv('Csv-data/daerah-rawan-banjir-provinsi-dki-jakarta.csv')"
   ]
  }
 ],
 "metadata": {
  "kernelspec": {
   "display_name": "Python 3",
   "language": "python",
   "name": "python3"
  },
  "language_info": {
   "codemirror_mode": {
    "name": "ipython",
    "version": 3
   },
   "file_extension": ".py",
   "mimetype": "text/x-python",
   "name": "python",
   "nbconvert_exporter": "python",
   "pygments_lexer": "ipython3",
   "version": "3.11.2"
  },
  "orig_nbformat": 4
 },
 "nbformat": 4,
 "nbformat_minor": 2
}
