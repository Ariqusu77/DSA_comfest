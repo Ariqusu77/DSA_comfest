{
 "cells": [
  {
   "attachments": {},
   "cell_type": "markdown",
   "metadata": {},
   "source": [
    "#### Data Pre-process"
   ]
  },
  {
   "cell_type": "code",
   "execution_count": 16,
   "metadata": {},
   "outputs": [],
   "source": [
    "import pandas as pd\n",
    "import os\n",
    "\n",
    "#Load dataframe dari file csv\n",
    "dataframe1 = pd.read_csv('Csv-data/tempat-penampungan-sampah-sementara-tps-di-wilayah-dki-jakarta-tahun-2019.csv')\n",
    "data1 = dataframe1.loc[:,['wilayah','kecamatan']]\n",
    "data2 = dataframe1.loc[:,['kecamatan','volume_sampah_rata_rata_per_hari(m3)']]\n",
    "data2.to_csv('Csv-data/volume.csv',index=False)"
   ]
  },
  {
   "cell_type": "code",
   "execution_count": 5,
   "metadata": {},
   "outputs": [],
   "source": [
    "#Pre-process data before filtering\n",
    "for column_name, column_data in data1.items():\n",
    "    data1[column_name] = data1[column_name].str.strip()\n",
    "    data1[column_name] = data1[column_name].str.title()\n",
    "\n",
    "reduced_data = data1.drop_duplicates()"
   ]
  },
  {
   "cell_type": "code",
   "execution_count": 7,
   "metadata": {},
   "outputs": [],
   "source": [
    "#Sort data based on alphabetical order\n",
    "sorted_data = reduced_data.sort_values(by=['wilayah','kecamatan'])\n",
    "sorted_data.to_csv('Csv-data/sorted.csv', index=False)\n",
    "\n",
    "#there are some typo that should be handled manually"
   ]
  },
  {
   "cell_type": "code",
   "execution_count": 10,
   "metadata": {},
   "outputs": [],
   "source": [
    "#count data for amaount of tps\n",
    "data_duplicate = data1['kecamatan'].value_counts()\n",
    "data_count = pd.DataFrame({'kecamatan':data_duplicate.index, 'Jumlah':data_duplicate.values})\n",
    "\n",
    "counted_data = data_count.sort_values(by=['kecamatan'])\n",
    "counted_data.to_csv('Csv-data/counted.csv',index=False)\n",
    "\n",
    "#there are some typo that should be handled manually"
   ]
  },
  {
   "cell_type": "code",
   "execution_count": null,
   "metadata": {},
   "outputs": [],
   "source": [
    "#merge data from counting and sorting\n",
    "final_sorted = pd.read_csv('Csv-data/sorted-final.csv')\n",
    "final_counted = pd.read_csv('Csv-data/counted-final.csv')\n",
    "\n",
    "merged = pd.merge(final_sorted,final_counted, on='kecamatan')\n",
    "\n",
    "merged.to_csv('Csv-data/merged1.csv',index=False)"
   ]
  },
  {
   "cell_type": "code",
   "execution_count": 18,
   "metadata": {},
   "outputs": [],
   "source": [
    "#before load data, correct some typo from the original csv file\n",
    "volume = pd.read_csv('Csv-data/volume-final.csv')\n",
    "\n",
    "#pre-process data before using it\n",
    "volume['kecamatan'] = volume['kecamatan'].str.strip()\n",
    "volume['kecamatan'] = volume['kecamatan'].str.title()\n",
    "volume['volume_sampah_rata_rata_per_hari(m3)'] = volume['volume_sampah_rata_rata_per_hari(m3)'].astype(float)\n",
    "\n",
    "#data processing\n",
    "grouped_sum = volume.groupby('kecamatan')['volume_sampah_rata_rata_per_hari(m3)'].transform('sum')\n",
    "volume['total_volume(m3)'] = grouped_sum"
   ]
  },
  {
   "cell_type": "code",
   "execution_count": 19,
   "metadata": {},
   "outputs": [],
   "source": [
    "#select only necessary and delete duplicate data\n",
    "total_volume = volume.loc[:,['kecamatan','total_volume(m3)']]\n",
    "reduced_volume = total_volume.drop_duplicates()\n",
    "\n",
    "reduced_volume.to_csv('Csv-data/reduced-volume.csv',index=False)\n",
    "#there are some typo that should be handled manually"
   ]
  },
  {
   "cell_type": "code",
   "execution_count": 61,
   "metadata": {},
   "outputs": [],
   "source": [
    "#Load dataframe from csv file\n",
    "dataframe2 = pd.read_csv('Csv-data/data-jumlah-kepala-keluarga-berdasarkan-jenis-kelamin-per-kelurahan-tahun-2020.csv')\n",
    "\n",
    "data3 = dataframe2.loc[:,['kabupaten_kota','kecamatan','jumlah']]"
   ]
  },
  {
   "cell_type": "code",
   "execution_count": 62,
   "metadata": {},
   "outputs": [],
   "source": [
    "#data pre-processing\n",
    "data3['jumlah'] = data3['jumlah'].astype(int)\n",
    "\n",
    "data3_sum = data3.groupby('kecamatan')['jumlah'].transform('sum')\n",
    "data3['jumlah_kk'] = data3_sum"
   ]
  },
  {
   "cell_type": "code",
   "execution_count": null,
   "metadata": {},
   "outputs": [],
   "source": [
    "#select only necessary and delete duplicate data\n",
    "jumlah_kk = data3.loc[:,['kabupaten_kota','kecamatan','jumlah_kk']]\n",
    "reduced_kk = jumlah_kk.drop_duplicates()\n",
    "reduced_kk['kabupaten_kota'] = reduced_kk['kabupaten_kota'].str.title()\n",
    "reduced_kk['kecamatan'] = reduced_kk['kecamatan'].str.title()\n",
    "\n",
    "reduced_kk.to_csv('Csv-data/reduced-kk.csv',index=False)"
   ]
  },
  {
   "cell_type": "code",
   "execution_count": 115,
   "metadata": {},
   "outputs": [],
   "source": [
    "#Pre-process area rawan banjir\n",
    "data_banjir = pd.read_csv('Csv-data/wilayah-rawan-banjir.csv')\n",
    "data_banjir_sum = data_banjir.groupby('Kecamatan')['Frekuensi'].transform('sum')\n",
    "data_banjir['frekuensi_total'] = data_banjir_sum"
   ]
  },
  {
   "cell_type": "code",
   "execution_count": 118,
   "metadata": {},
   "outputs": [],
   "source": [
    "#reshape the data\n",
    "data_banjir_2 = pd.DataFrame({\n",
    "    'kecamatan':data_banjir['Kecamatan'],\n",
    "    'frekuensi_total':data_banjir['frekuensi_total'],\n",
    "})\n",
    "\n",
    "data_banjir_2 = data_banjir_2.drop_duplicates()\n",
    "data_banjir_2.to_csv('Csv-data/wilayah-rawan-banjir-2.csv',index=False)"
   ]
  },
  {
   "cell_type": "code",
   "execution_count": 119,
   "metadata": {},
   "outputs": [],
   "source": [
    "#merge all data that we have gathered\n",
    "data_merge = pd.read_csv('Csv-data/merged.csv')\n",
    "data_kk = pd.read_csv('Csv-data/reduced-kk-final.csv')\n",
    "data_volume = pd.read_csv('Csv-data/reduced-volume-final.csv')\n",
    "data_banjir_3 = pd.read_csv('Csv-data/wilayah-rawan-banjir-2.csv')\n",
    "\n",
    "temp_data_merge = data_merge.loc[:,['kecamatan','Jumlah']]\n",
    "temp_data_kk = data_kk.loc[:,['kecamatan','jumlah_kk']]\n",
    "\n",
    "temp_merged = pd.merge(temp_data_kk,temp_data_merge, on='kecamatan', how='outer')\n",
    "temp_merged_2 = pd.merge(temp_merged,data_banjir_3,on='kecamatan',how='left')\n",
    "final_merged = pd.merge(temp_merged_2,data_volume, on='kecamatan',how='left')\n",
    "\n",
    "final_merged.to_csv('Csv-data/final_merged.csv',index=False)"
   ]
  },
  {
   "attachments": {},
   "cell_type": "markdown",
   "metadata": {},
   "source": [
    "#### Data Visualization : Histogram"
   ]
  },
  {
   "cell_type": "code",
   "execution_count": 170,
   "metadata": {},
   "outputs": [],
   "source": [
    "import matplotlib.pyplot as plt\n",
    "from sklearn.preprocessing import MinMaxScaler\n",
    "\n",
    "Data1 = pd.read_csv('Csv-data/sorted-final.csv')\n",
    "Data2 = pd.read_csv('Csv-data/final_merged.csv')\n",
    "\n",
    "Final_data = pd.merge(Data2,Data1,on='kecamatan',how='left')"
   ]
  },
  {
   "cell_type": "code",
   "execution_count": 172,
   "metadata": {},
   "outputs": [],
   "source": [
    "sum_column = ['jumlah_kk','Jumlah','frekuensi_total','total_volume(m3)']\n",
    "Temp_data = pd.DataFrame({'wilayah':Final_data['wilayah']})\n",
    "for column_name in sum_column:\n",
    "    summing = Final_data.groupby('wilayah')[column_name].transform('sum')\n",
    "    Temp_data[column_name] = summing\n",
    "\n",
    "Final_Data = pd.DataFrame({\n",
    "    'wilayah':Temp_data['wilayah'],\n",
    "    'frekuensi':Temp_data['frekuensi_total'],\n",
    "    'jumlah_kk':Temp_data['jumlah_kk'],\n",
    "    'jumlah_tps':Temp_data['Jumlah'],\n",
    "    'volume (m3)':Temp_data['total_volume(m3)'],\n",
    "})\n",
    "\n",
    "Final_Data = Final_Data.drop_duplicates()\n"
   ]
  },
  {
   "cell_type": "code",
   "execution_count": null,
   "metadata": {},
   "outputs": [],
   "source": [
    "scaler = MinMaxScaler()\n",
    "scaled_data = scaler.fit_transform(Final_Data[['frekuensi','jumlah_kk','jumlah_tps','volume (m3)']])\n",
    "Final_Data[['frekuensi','jumlah_kk','jumlah_tps','volume (m3)']] = scaled_data\n",
    "\n",
    "# Plot the scaled DataFrame\n",
    "Final_Data.plot(x='wilayah', y=['frekuensi','jumlah_kk','jumlah_tps','volume (m3)'])\n",
    "plt.title('Grafik')\n",
    "plt.xlabel('wilayah')\n",
    "plt.ylabel('Scaled Amount')\n",
    "plt.savefig('images/Grafik-wilayah.png')\n",
    "plt.show()"
   ]
  },
  {
   "attachments": {},
   "cell_type": "markdown",
   "metadata": {},
   "source": [
    "#### Data Visualization : Maps"
   ]
  },
  {
   "cell_type": "code",
   "execution_count": 121,
   "metadata": {},
   "outputs": [],
   "source": [
    "import geopandas as gpd\n",
    "import matplotlib.pyplot as plt\n",
    "\n",
    "#Prepare the maps\n",
    "gdf_jakbar = gpd.read_file('city-regency-simplified/id-jk-jakbar.min.geojson')\n",
    "gdf_jakpus = gpd.read_file('city-regency-simplified/id-jk-jakpus.min.geojson')\n",
    "gdf_jaksel = gpd.read_file('city-regency-simplified/id-jk-jaksel.min.geojson')\n",
    "gdf_jaktim = gpd.read_file('city-regency-simplified/id-jk-jaktim.min.geojson')\n",
    "gdf_jakut = gpd.read_file('city-regency-simplified/id-jk-jakut.min.geojson')\n",
    "\n",
    "#combine the maps\n",
    "gdf_jakarta = gpd.GeoDataFrame(pd.concat([gdf_jakbar,gdf_jakpus,gdf_jaksel,gdf_jaktim,gdf_jakut], ignore_index=True), crs=gdf_jakbar.crs)\n",
    "gdf1 = gpd.GeoDataFrame({'kecamatan':gdf_jakarta['name'],'geometry':gdf_jakarta['geometry']})\n",
    "gdf2 = pd.merge(gdf1,final_merged,on='kecamatan',how='left')"
   ]
  },
  {
   "cell_type": "code",
   "execution_count": null,
   "metadata": {},
   "outputs": [],
   "source": [
    "from matplotlib.colors import Normalize\n",
    "\n",
    "# Define the variable to use for coloring\n",
    "variable = 'jumlah_kk'\n",
    "\n",
    "# Define the colormap and normalization\n",
    "cmap = 'jet'  # Example: Cool-Warm colormap\n",
    "norm = Normalize(vmin=gdf2[variable].min(), vmax=gdf2[variable].max())\n",
    "\n",
    "# Plot the GeoDataFrame with different colors based on the variable\n",
    "gdf2.plot(column=variable, cmap=cmap, linewidth=0.8, edgecolor='black', norm=norm, legend=True)\n",
    "plt.savefig('images/persebaran-jumlah-kk')\n",
    "\n",
    "# Customize the plot\n",
    "plt.title('Map for Jumlah-kk')\n",
    "plt.xlabel('Longitude')\n",
    "plt.ylabel('Latitude')\n",
    "\n",
    "plt.show()"
   ]
  },
  {
   "cell_type": "code",
   "execution_count": null,
   "metadata": {},
   "outputs": [],
   "source": [
    "from matplotlib.colors import Normalize\n",
    "\n",
    "# Define the variable to use for coloring\n",
    "variable = 'Jumlah'\n",
    "\n",
    "# Define the colormap and normalization\n",
    "cmap = 'coolwarm'  # Example: Cool-Warm colormap\n",
    "norm = Normalize(vmin=gdf2[variable].min(), vmax=gdf2[variable].max())\n",
    "\n",
    "# Plot the GeoDataFrame with different colors based on the variable\n",
    "gdf2.plot(column=variable, cmap=cmap, linewidth=0.8, edgecolor='black', norm=norm, legend=True)\n",
    "plt.savefig('images/persebaran-jumlah-TPS.png')\n",
    "\n",
    "# Customize the plot\n",
    "plt.title('Map for Jumlah-TPS')\n",
    "plt.xlabel('Longitude')\n",
    "plt.ylabel('Latitude')\n",
    "\n",
    "plt.show()"
   ]
  },
  {
   "cell_type": "code",
   "execution_count": null,
   "metadata": {},
   "outputs": [],
   "source": [
    "from matplotlib.colors import Normalize\n",
    "\n",
    "# Define the variable to use for coloring\n",
    "variable = 'total_volume(m3)'\n",
    "\n",
    "# Define the colormap and normalization\n",
    "cmap = 'plasma'  # Example: Cool-Warm colormap\n",
    "norm = Normalize(vmin=gdf2[variable].min(), vmax=gdf2[variable].max())\n",
    "\n",
    "# Plot the GeoDataFrame with different colors based on the variable\n",
    "gdf2.plot(column=variable, cmap=cmap, linewidth=0.8, edgecolor='black', norm=norm, legend=True)\n",
    "plt.savefig('images/persebaran-sampah-masuk-tps.png')\n",
    "\n",
    "# Customize the plot\n",
    "plt.title('Map for sampah masuk tps(m3)')\n",
    "plt.xlabel('Longitude')\n",
    "plt.ylabel('Latitude')\n",
    "\n",
    "plt.show()"
   ]
  },
  {
   "cell_type": "code",
   "execution_count": null,
   "metadata": {},
   "outputs": [],
   "source": [
    "from matplotlib.colors import Normalize\n",
    "\n",
    "# Define the variable to use for coloring\n",
    "variable = 'frekuensi_total'\n",
    "\n",
    "# Define the colormap and normalization\n",
    "cmap = 'jet'  # Example: Cool-Warm colormap\n",
    "norm = Normalize(vmin=gdf2[variable].min(), vmax=gdf2[variable].max())\n",
    "\n",
    "# Plot the GeoDataFrame with different colors based on the variable\n",
    "gdf2.plot(column=variable, cmap=cmap, linewidth=0.8, edgecolor='black', norm=norm, legend=True)\n",
    "plt.savefig('images/persebaran-Daerah-Rawan-Banjir.png')\n",
    "\n",
    "# Customize the plot\n",
    "plt.title('Map for Daerah Rawan Banjir')\n",
    "plt.xlabel('Longitude')\n",
    "plt.ylabel('Latitude')\n",
    "\n",
    "plt.show()"
   ]
  },
  {
   "attachments": {},
   "cell_type": "markdown",
   "metadata": {},
   "source": [
    "#### Corelation"
   ]
  },
  {
   "cell_type": "code",
   "execution_count": null,
   "metadata": {},
   "outputs": [],
   "source": [
    "Data1 = pd.read_csv('Csv-data/sorted-final.csv')\n",
    "Data2 = pd.read_csv('Csv-data/final_merged.csv')\n",
    "\n",
    "Final_data = pd.merge(Data2,Data1,on='kecamatan',how='left')\n",
    "\n",
    "drop_col = ['kecamatan','wilayah']\n",
    "Corr_purpose = Final_data.drop(drop_col,axis=1)\n",
    "Corr_purpose.columns = ['Jumlah_KK','Jumlah TPS', 'Frekuensi Banjir','Volume Sampah/Hari']\n",
    "print(Corr_purpose)\n",
    "Corr_purpose.corr()"
   ]
  },
  {
   "cell_type": "code",
   "execution_count": null,
   "metadata": {},
   "outputs": [],
   "source": [
    "import seaborn as sns\n",
    "import matplotlib.pyplot as plt\n",
    "\n",
    "\n",
    "sns.heatmap(Corr_purpose.corr(), annot=True, cmap='YlGnBu', fmt=\".2f\")\n",
    "plt.title('Tabel Korelasi')\n",
    "plt.savefig('images/tabel-korelasi.png')\n",
    "plt.show()"
   ]
  }
 ],
 "metadata": {
  "kernelspec": {
   "display_name": "Python 3",
   "language": "python",
   "name": "python3"
  },
  "language_info": {
   "codemirror_mode": {
    "name": "ipython",
    "version": 3
   },
   "file_extension": ".py",
   "mimetype": "text/x-python",
   "name": "python",
   "nbconvert_exporter": "python",
   "pygments_lexer": "ipython3",
   "version": "3.11.2"
  },
  "orig_nbformat": 4
 },
 "nbformat": 4,
 "nbformat_minor": 2
}
