{
 "cells": [
  {
   "attachments": {},
   "cell_type": "markdown",
   "metadata": {},
   "source": [
    "#### Data Pre-process"
   ]
  },
  {
   "cell_type": "code",
   "execution_count": 16,
   "metadata": {},
   "outputs": [],
   "source": [
    "import pandas as pd\n",
    "import os\n",
    "\n",
    "#Load dataframe dari file csv\n",
    "dataframe1 = pd.read_csv('Csv-data/tempat-penampungan-sampah-sementara-tps-di-wilayah-dki-jakarta-tahun-2019.csv')\n",
    "data1 = dataframe1.loc[:,['wilayah','kecamatan']]\n",
    "data2 = dataframe1.loc[:,['kecamatan','volume_sampah_rata_rata_per_hari(m3)']]\n",
    "data2.to_csv('Csv-data/volume.csv',index=False)"
   ]
  },
  {
   "cell_type": "code",
   "execution_count": 5,
   "metadata": {},
   "outputs": [],
   "source": [
    "#Pre-process data before filtering\n",
    "for column_name, column_data in data1.items():\n",
    "    data1[column_name] = data1[column_name].str.strip()\n",
    "    data1[column_name] = data1[column_name].str.title()\n",
    "\n",
    "reduced_data = data1.drop_duplicates()"
   ]
  },
  {
   "cell_type": "code",
   "execution_count": 7,
   "metadata": {},
   "outputs": [],
   "source": [
    "#Sort data based on alphabetical order\n",
    "sorted_data = reduced_data.sort_values(by=['wilayah','kecamatan'])\n",
    "sorted_data.to_csv('Csv-data/sorted.csv', index=False)\n",
    "\n",
    "#there are some typo that should be handled manually"
   ]
  },
  {
   "cell_type": "code",
   "execution_count": 10,
   "metadata": {},
   "outputs": [],
   "source": [
    "#count data for amaount of tps\n",
    "data_duplicate = data1['kecamatan'].value_counts()\n",
    "data_count = pd.DataFrame({'kecamatan':data_duplicate.index, 'Jumlah':data_duplicate.values})\n",
    "\n",
    "counted_data = data_count.sort_values(by=['kecamatan'])\n",
    "counted_data.to_csv('Csv-data/counted.csv',index=False)\n",
    "\n",
    "#there are some typo that should be handled manually"
   ]
  },
  {
   "cell_type": "code",
   "execution_count": null,
   "metadata": {},
   "outputs": [],
   "source": [
    "#merge data from counting and sorting\n",
    "final_sorted = pd.read_csv('Csv-data/sorted-final.csv')\n",
    "final_counted = pd.read_csv('Csv-data/counted-final.csv')\n",
    "\n",
    "merged = pd.merge(final_sorted,final_counted, on='kecamatan')\n",
    "\n",
    "merged.to_csv('Csv-data/merged1.csv',index=False)"
   ]
  },
  {
   "cell_type": "code",
   "execution_count": 18,
   "metadata": {},
   "outputs": [],
   "source": [
    "#before load data, correct some typo from the original csv file\n",
    "volume = pd.read_csv('Csv-data/volume-final.csv')\n",
    "\n",
    "#pre-process data before using it\n",
    "volume['kecamatan'] = volume['kecamatan'].str.strip()\n",
    "volume['kecamatan'] = volume['kecamatan'].str.title()\n",
    "volume['volume_sampah_rata_rata_per_hari(m3)'] = volume['volume_sampah_rata_rata_per_hari(m3)'].astype(float)\n",
    "\n",
    "#data processing\n",
    "grouped_sum = volume.groupby('kecamatan')['volume_sampah_rata_rata_per_hari(m3)'].transform('sum')\n",
    "volume['total_volume(m3)'] = grouped_sum"
   ]
  },
  {
   "cell_type": "code",
   "execution_count": 19,
   "metadata": {},
   "outputs": [],
   "source": [
    "#select only necessary and delete duplicate data\n",
    "total_volume = volume.loc[:,['kecamatan','total_volume(m3)']]\n",
    "reduced_volume = total_volume.drop_duplicates()\n",
    "\n",
    "reduced_volume.to_csv('Csv-data/reduced-volume.csv',index=False)\n",
    "#there are some typo that should be handled manually"
   ]
  },
  {
   "cell_type": "code",
   "execution_count": 61,
   "metadata": {},
   "outputs": [],
   "source": [
    "#Load dataframe from csv file\n",
    "dataframe2 = pd.read_csv('Csv-data/data-jumlah-kepala-keluarga-berdasarkan-jenis-kelamin-per-kelurahan-tahun-2020.csv')\n",
    "\n",
    "data3 = dataframe2.loc[:,['kabupaten_kota','kecamatan','jumlah']]"
   ]
  },
  {
   "cell_type": "code",
   "execution_count": 62,
   "metadata": {},
   "outputs": [],
   "source": [
    "#data pre-processing\n",
    "data3['jumlah'] = data3['jumlah'].astype(int)\n",
    "\n",
    "data3_sum = data3.groupby('kecamatan')['jumlah'].transform('sum')\n",
    "data3['jumlah_kk'] = data3_sum"
   ]
  },
  {
   "cell_type": "code",
   "execution_count": null,
   "metadata": {},
   "outputs": [],
   "source": [
    "#select only necessary and delete duplicate data\n",
    "jumlah_kk = data3.loc[:,['kabupaten_kota','kecamatan','jumlah_kk']]\n",
    "reduced_kk = jumlah_kk.drop_duplicates()\n",
    "reduced_kk['kabupaten_kota'] = reduced_kk['kabupaten_kota'].str.title()\n",
    "reduced_kk['kecamatan'] = reduced_kk['kecamatan'].str.title()\n",
    "\n",
    "reduced_kk.to_csv('Csv-data/reduced-kk.csv',index=False)"
   ]
  },
  {
   "cell_type": "code",
   "execution_count": 115,
   "metadata": {},
   "outputs": [],
   "source": [
    "#Pre-process area rawan banjir\n",
    "data_banjir = pd.read_csv('Csv-data/wilayah-rawan-banjir.csv')\n",
    "data_banjir_sum = data_banjir.groupby('Kecamatan')['Frekuensi'].transform('sum')\n",
    "data_banjir['frekuensi_total'] = data_banjir_sum"
   ]
  },
  {
   "cell_type": "code",
   "execution_count": 118,
   "metadata": {},
   "outputs": [],
   "source": [
    "#reshape the data\n",
    "data_banjir_2 = pd.DataFrame({\n",
    "    'kecamatan':data_banjir['Kecamatan'],\n",
    "    'frekuensi_total':data_banjir['frekuensi_total'],\n",
    "})\n",
    "\n",
    "data_banjir_2 = data_banjir_2.drop_duplicates()\n",
    "data_banjir_2.to_csv('Csv-data/wilayah-rawan-banjir-2.csv',index=False)"
   ]
  },
  {
   "cell_type": "code",
   "execution_count": 119,
   "metadata": {},
   "outputs": [],
   "source": [
    "#merge all data that we have gathered\n",
    "data_merge = pd.read_csv('Csv-data/merged.csv')\n",
    "data_kk = pd.read_csv('Csv-data/reduced-kk-final.csv')\n",
    "data_volume = pd.read_csv('Csv-data/reduced-volume-final.csv')\n",
    "data_banjir_3 = pd.read_csv('Csv-data/wilayah-rawan-banjir-2.csv')\n",
    "\n",
    "temp_data_merge = data_merge.loc[:,['kecamatan','Jumlah']]\n",
    "temp_data_kk = data_kk.loc[:,['kecamatan','jumlah_kk']]\n",
    "\n",
    "temp_merged = pd.merge(temp_data_kk,temp_data_merge, on='kecamatan', how='outer')\n",
    "temp_merged_2 = pd.merge(temp_merged,data_banjir_3,on='kecamatan',how='left')\n",
    "final_merged = pd.merge(temp_merged_2,data_volume, on='kecamatan',how='left')\n",
    "\n",
    "final_merged.to_csv('Csv-data/final_merged.csv',index=False)"
   ]
  },
  {
   "attachments": {},
   "cell_type": "markdown",
   "metadata": {},
   "source": [
    "#### Data Visualization : Histogram"
   ]
  },
  {
   "cell_type": "code",
   "execution_count": 125,
   "metadata": {},
   "outputs": [
    {
     "name": "stdout",
     "output_type": "stream",
     "text": [
      "            kecamatan  jumlah_kk  Jumlah  frekuensi_total  total_volume(m3)  \\\n",
      "0              Gambir      35534      36                1           342.000   \n",
      "1         Sawah Besar      46902       9                5           235.000   \n",
      "2           Kemayoran      88755      31               11           692.960   \n",
      "3               Senen      44986      14                3            92.179   \n",
      "4       Cempaka Putih      34669      10                3            96.000   \n",
      "5             Menteng      30902      12                5           200.000   \n",
      "6         Tanah Abang      62305      30               12           460.500   \n",
      "7          Johar Baru      47090       4                4            82.000   \n",
      "8         Penjaringan     106904       5                6           309.000   \n",
      "9       Tanjung Priok     137133      17                1           795.835   \n",
      "10               Koja     112045      23                3           363.000   \n",
      "11          Cilincing     140693      62               12           733.000   \n",
      "12         Pademangan      57069      20                4           224.410   \n",
      "13      Kelapa Gading      47355      27                5           329.000   \n",
      "14         Cengkareng     182111      35               21           508.000   \n",
      "15  Grogol Petamburan      80219      33                5           580.000   \n",
      "16         Taman Sari      44605      46                1           520.330   \n",
      "17            Tambora      89608      19                7           390.506   \n",
      "18        Kebon Jeruk     113682      40               19           882.435   \n",
      "19          Kalideres     141259      41               11           519.200   \n",
      "20           Palmerah      73726      16                9           216.000   \n",
      "21          Kembangan      94656      28               15           557.000   \n",
      "22              Tebet      79847      11               18             9.000   \n",
      "23          Setiabudi      40181      17                9           227.000   \n",
      "24   Mampang Prapatan      52238       6               15             9.000   \n",
      "25       Pasar Minggu     107032      10               17            28.000   \n",
      "26     Kebayoran Lama     105766      44               13             9.000   \n",
      "27           Cilandak      72160      16               11            10.000   \n",
      "28     Kebayoran Baru      52127      15               10             9.000   \n",
      "29           Pancoran      57712      24               17             9.000   \n",
      "30          Jagakarsa     112724      26                8            50.000   \n",
      "31       Pesanggrahan      82441      27               10            39.000   \n",
      "32           Matraman      64501      29                4           211.000   \n",
      "33        Pulo Gadung     102933      31                4           453.000   \n",
      "34         Jatinegara     107856      23                8           402.000   \n",
      "35        Kramat Jati     101938      27               11           360.000   \n",
      "36         Pasar Rebo      72413      37                4           312.500   \n",
      "37             Cakung     182182      56                9           494.000   \n",
      "38        Duren Sawit     139957      42               11           529.000   \n",
      "39            Makasar      70225      45                6           466.000   \n",
      "40            Ciracas     100730      48                9           520.000   \n",
      "41           Cipayung      89286      28               12           233.000   \n",
      "\n",
      "            wilayah  \n",
      "0     Jakarta Pusat  \n",
      "1     Jakarta Pusat  \n",
      "2     Jakarta Pusat  \n",
      "3     Jakarta Pusat  \n",
      "4     Jakarta Pusat  \n",
      "5     Jakarta Pusat  \n",
      "6     Jakarta Pusat  \n",
      "7     Jakarta Pusat  \n",
      "8     Jakarta Utara  \n",
      "9     Jakarta Utara  \n",
      "10    Jakarta Utara  \n",
      "11    Jakarta Utara  \n",
      "12    Jakarta Utara  \n",
      "13    Jakarta Utara  \n",
      "14    Jakarta Barat  \n",
      "15    Jakarta Barat  \n",
      "16    Jakarta Barat  \n",
      "17    Jakarta Barat  \n",
      "18    Jakarta Barat  \n",
      "19    Jakarta Barat  \n",
      "20    Jakarta Barat  \n",
      "21    Jakarta Barat  \n",
      "22  Jakarta Selatan  \n",
      "23  Jakarta Selatan  \n",
      "24  Jakarta Selatan  \n",
      "25  Jakarta Selatan  \n",
      "26  Jakarta Selatan  \n",
      "27  Jakarta Selatan  \n",
      "28  Jakarta Selatan  \n",
      "29  Jakarta Selatan  \n",
      "30  Jakarta Selatan  \n",
      "31  Jakarta Selatan  \n",
      "32    Jakarta Timur  \n",
      "33    Jakarta Timur  \n",
      "34    Jakarta Timur  \n",
      "35    Jakarta Timur  \n",
      "36    Jakarta Timur  \n",
      "37    Jakarta Timur  \n",
      "38    Jakarta Timur  \n",
      "39    Jakarta Timur  \n",
      "40    Jakarta Timur  \n",
      "41    Jakarta Timur  \n"
     ]
    }
   ],
   "source": [
    "import geopandas as gpd\n",
    "import matplotlib.pyplot as plt\n",
    "\n",
    "Data1 = pd.read_csv('Csv-data/sorted-final.csv')\n",
    "Data2 = pd.read_csv('Csv-data/final_merged.csv')\n",
    "\n",
    "Final_data = pd.merge(Data2,Data1,on='kecamatan',how='left')\n",
    "\n",
    "print(Final_data)"
   ]
  },
  {
   "attachments": {},
   "cell_type": "markdown",
   "metadata": {},
   "source": [
    "#### Data Visualization : Maps"
   ]
  },
  {
   "cell_type": "code",
   "execution_count": 121,
   "metadata": {},
   "outputs": [],
   "source": [
    "import geopandas as gpd\n",
    "import matplotlib.pyplot as plt\n",
    "\n",
    "#Prepare the maps\n",
    "gdf_jakbar = gpd.read_file('city-regency-simplified/id-jk-jakbar.min.geojson')\n",
    "gdf_jakpus = gpd.read_file('city-regency-simplified/id-jk-jakpus.min.geojson')\n",
    "gdf_jaksel = gpd.read_file('city-regency-simplified/id-jk-jaksel.min.geojson')\n",
    "gdf_jaktim = gpd.read_file('city-regency-simplified/id-jk-jaktim.min.geojson')\n",
    "gdf_jakut = gpd.read_file('city-regency-simplified/id-jk-jakut.min.geojson')\n",
    "\n",
    "#combine the maps\n",
    "gdf_jakarta = gpd.GeoDataFrame(pd.concat([gdf_jakbar,gdf_jakpus,gdf_jaksel,gdf_jaktim,gdf_jakut], ignore_index=True), crs=gdf_jakbar.crs)\n",
    "gdf1 = gpd.GeoDataFrame({'kecamatan':gdf_jakarta['name'],'geometry':gdf_jakarta['geometry']})\n",
    "gdf2 = pd.merge(gdf1,final_merged,on='kecamatan',how='left')"
   ]
  },
  {
   "cell_type": "code",
   "execution_count": null,
   "metadata": {},
   "outputs": [],
   "source": [
    "from matplotlib.colors import Normalize\n",
    "\n",
    "# Define the variable to use for coloring\n",
    "variable = 'jumlah_kk'\n",
    "\n",
    "# Define the colormap and normalization\n",
    "cmap = 'jet'  # Example: Cool-Warm colormap\n",
    "norm = Normalize(vmin=gdf2[variable].min(), vmax=gdf2[variable].max())\n",
    "\n",
    "# Plot the GeoDataFrame with different colors based on the variable\n",
    "gdf2.plot(column=variable, cmap=cmap, linewidth=0.8, edgecolor='black', norm=norm, legend=True)\n",
    "\n",
    "# Customize the plot\n",
    "plt.title('Map for Jumlah-kk')\n",
    "plt.xlabel('Longitude')\n",
    "plt.ylabel('Latitude')\n",
    "\n",
    "plt.show()\n",
    "plt.savefig('images/persebaran-jumlah-kk')\n"
   ]
  },
  {
   "cell_type": "code",
   "execution_count": null,
   "metadata": {},
   "outputs": [],
   "source": [
    "from matplotlib.colors import Normalize\n",
    "\n",
    "# Define the variable to use for coloring\n",
    "variable = 'Jumlah'\n",
    "\n",
    "# Define the colormap and normalization\n",
    "cmap = 'coolwarm'  # Example: Cool-Warm colormap\n",
    "norm = Normalize(vmin=gdf2[variable].min(), vmax=gdf2[variable].max())\n",
    "\n",
    "# Plot the GeoDataFrame with different colors based on the variable\n",
    "gdf2.plot(column=variable, cmap=cmap, linewidth=0.8, edgecolor='black', norm=norm, legend=True)\n",
    "\n",
    "# Customize the plot\n",
    "plt.title('Map for Jumlah-TPS')\n",
    "plt.xlabel('Longitude')\n",
    "plt.ylabel('Latitude')\n",
    "\n",
    "plt.show()\n",
    "plt.savefig('images/persebaran-jumlah-TPS.png')"
   ]
  },
  {
   "cell_type": "code",
   "execution_count": null,
   "metadata": {},
   "outputs": [],
   "source": [
    "from matplotlib.colors import Normalize\n",
    "\n",
    "# Define the variable to use for coloring\n",
    "variable = 'total_volume(m3)'\n",
    "\n",
    "# Define the colormap and normalization\n",
    "cmap = 'plasma'  # Example: Cool-Warm colormap\n",
    "norm = Normalize(vmin=gdf2[variable].min(), vmax=gdf2[variable].max())\n",
    "\n",
    "# Plot the GeoDataFrame with different colors based on the variable\n",
    "gdf2.plot(column=variable, cmap=cmap, linewidth=0.8, edgecolor='black', norm=norm, legend=True)\n",
    "\n",
    "# Customize the plot\n",
    "plt.title('Map for sampah masuk tps(m3)')\n",
    "plt.xlabel('Longitude')\n",
    "plt.ylabel('Latitude')\n",
    "\n",
    "plt.show()\n",
    "plt.savefig('images/persebaran-sampah-masuk-tps.png')"
   ]
  },
  {
   "cell_type": "code",
   "execution_count": null,
   "metadata": {},
   "outputs": [],
   "source": [
    "from matplotlib.colors import Normalize\n",
    "\n",
    "# Define the variable to use for coloring\n",
    "variable = 'frekuensi_total'\n",
    "\n",
    "# Define the colormap and normalization\n",
    "cmap = 'jet'  # Example: Cool-Warm colormap\n",
    "norm = Normalize(vmin=gdf2[variable].min(), vmax=gdf2[variable].max())\n",
    "\n",
    "# Plot the GeoDataFrame with different colors based on the variable\n",
    "gdf2.plot(column=variable, cmap=cmap, linewidth=0.8, edgecolor='black', norm=norm, legend=True)\n",
    "\n",
    "# Customize the plot\n",
    "plt.title('Map for Daerah Rawan Banjir')\n",
    "plt.xlabel('Longitude')\n",
    "plt.ylabel('Latitude')\n",
    "\n",
    "plt.show()\n",
    "plt.savefig('images/persebaran-Daerah-Rawan-Banjir.png')"
   ]
  }
 ],
 "metadata": {
  "kernelspec": {
   "display_name": "Python 3",
   "language": "python",
   "name": "python3"
  },
  "language_info": {
   "codemirror_mode": {
    "name": "ipython",
    "version": 3
   },
   "file_extension": ".py",
   "mimetype": "text/x-python",
   "name": "python",
   "nbconvert_exporter": "python",
   "pygments_lexer": "ipython3",
   "version": "3.11.2"
  },
  "orig_nbformat": 4
 },
 "nbformat": 4,
 "nbformat_minor": 2
}
